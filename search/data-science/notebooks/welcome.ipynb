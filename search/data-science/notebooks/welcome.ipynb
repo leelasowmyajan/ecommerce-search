{
 "cells": [
  {
   "cell_type": "code",
   "execution_count": 1,
   "metadata": {
    "tags": []
   },
   "outputs": [
    {
     "name": "stdout",
     "output_type": "stream",
     "text": [
      "Solr is up and responding.\n",
      "Zookeeper is up and responding.\n",
      "\n",
      "All Systems are ready. Happy Searching!\n"
     ]
    }
   ],
   "source": [
    "from searchutil import healthcheck; healthcheck()"
   ]
  },
  {
   "cell_type": "code",
   "execution_count": null,
   "metadata": {},
   "outputs": [],
   "source": []
  }
 ],
 "metadata": {
  "kernelspec": {
   "display_name": "Python 3 (ipykernel)",
   "language": "python",
   "name": "python3"
  }
 },
 "nbformat": 4,
 "nbformat_minor": 4
}
